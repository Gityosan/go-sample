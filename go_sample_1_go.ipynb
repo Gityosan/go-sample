{
  "nbformat": 4,
  "nbformat_minor": 0,
  "metadata": {
    "colab": {
      "name": "go-sample-1.go",
      "provenance": [],
      "authorship_tag": "ABX9TyPNna2IS/b+YMarhSrPlch1",
      "include_colab_link": true
    },
    "kernelspec": {
      "name": "python3",
      "display_name": "Python 3"
    },
    "language_info": {
      "name": "python"
    }
  },
  "cells": [
    {
      "cell_type": "markdown",
      "metadata": {
        "id": "view-in-github",
        "colab_type": "text"
      },
      "source": [
        "<a href=\"https://colab.research.google.com/github/Gityosan/go-sample/blob/main/go_sample_1_go.ipynb\" target=\"_parent\"><img src=\"https://colab.research.google.com/assets/colab-badge.svg\" alt=\"Open In Colab\"/></a>"
      ]
    },
    {
      "cell_type": "code",
      "metadata": {
        "colab": {
          "base_uri": "https://localhost:8080/"
        },
        "id": "vPsoukISJ6Jg",
        "outputId": "e59abb2e-e8c0-4159-996c-438073efe1e4"
      },
      "source": [
        "!go"
      ],
      "execution_count": null,
      "outputs": [
        {
          "output_type": "stream",
          "text": [
            "/bin/bash: go: command not found\n"
          ],
          "name": "stdout"
        }
      ]
    },
    {
      "cell_type": "code",
      "metadata": {
        "colab": {
          "base_uri": "https://localhost:8080/"
        },
        "id": "awK7aE0LKh9e",
        "outputId": "678af8bc-1fa8-4f8e-9217-08b878d0369d"
      },
      "source": [
        "!apt-get install golang"
      ],
      "execution_count": null,
      "outputs": [
        {
          "output_type": "stream",
          "text": [
            "Reading package lists... Done\n",
            "Building dependency tree       \n",
            "Reading state information... Done\n",
            "The following package was automatically installed and is no longer required:\n",
            "  libnvidia-common-460\n",
            "Use 'apt autoremove' to remove it.\n",
            "The following additional packages will be installed:\n",
            "  golang-1.10 golang-1.10-doc golang-1.10-go golang-1.10-race-detector-runtime\n",
            "  golang-1.10-src golang-doc golang-go golang-race-detector-runtime golang-src\n",
            "Suggested packages:\n",
            "  bzr mercurial subversion\n",
            "The following NEW packages will be installed:\n",
            "  golang golang-1.10 golang-1.10-doc golang-1.10-go\n",
            "  golang-1.10-race-detector-runtime golang-1.10-src golang-doc golang-go\n",
            "  golang-race-detector-runtime golang-src\n",
            "0 upgraded, 10 newly installed, 0 to remove and 34 not upgraded.\n",
            "Need to get 42.7 MB of archives.\n",
            "After this operation, 229 MB of additional disk space will be used.\n",
            "Get:1 http://archive.ubuntu.com/ubuntu bionic-updates/main amd64 golang-1.10-src amd64 1.10.4-2ubuntu1~18.04.2 [11.1 MB]\n",
            "Get:2 http://archive.ubuntu.com/ubuntu bionic-updates/main amd64 golang-1.10-go amd64 1.10.4-2ubuntu1~18.04.2 [28.6 MB]\n",
            "Get:3 http://archive.ubuntu.com/ubuntu bionic-updates/main amd64 golang-1.10-doc all 1.10.4-2ubuntu1~18.04.2 [2,419 kB]\n",
            "Get:4 http://archive.ubuntu.com/ubuntu bionic-updates/main amd64 golang-1.10 all 1.10.4-2ubuntu1~18.04.2 [11.2 kB]\n",
            "Get:5 http://archive.ubuntu.com/ubuntu bionic/main amd64 golang-src amd64 2:1.10~4ubuntu1 [3,676 B]\n",
            "Get:6 http://archive.ubuntu.com/ubuntu bionic/main amd64 golang-go amd64 2:1.10~4ubuntu1 [22.0 kB]\n",
            "Get:7 http://archive.ubuntu.com/ubuntu bionic/main amd64 golang-doc all 2:1.10~4ubuntu1 [2,944 B]\n",
            "Get:8 http://archive.ubuntu.com/ubuntu bionic/main amd64 golang amd64 2:1.10~4ubuntu1 [2,896 B]\n",
            "Get:9 http://archive.ubuntu.com/ubuntu bionic/main amd64 golang-1.10-race-detector-runtime amd64 0.0+svn285455-0ubuntu1 [478 kB]\n",
            "Get:10 http://archive.ubuntu.com/ubuntu bionic/main amd64 golang-race-detector-runtime amd64 2:1.10~4ubuntu1 [3,456 B]\n",
            "Fetched 42.7 MB in 6s (7,316 kB/s)\n",
            "Selecting previously unselected package golang-1.10-src.\n",
            "(Reading database ... 160706 files and directories currently installed.)\n",
            "Preparing to unpack .../0-golang-1.10-src_1.10.4-2ubuntu1~18.04.2_amd64.deb ...\n",
            "Unpacking golang-1.10-src (1.10.4-2ubuntu1~18.04.2) ...\n",
            "Selecting previously unselected package golang-1.10-go.\n",
            "Preparing to unpack .../1-golang-1.10-go_1.10.4-2ubuntu1~18.04.2_amd64.deb ...\n",
            "Unpacking golang-1.10-go (1.10.4-2ubuntu1~18.04.2) ...\n",
            "Selecting previously unselected package golang-1.10-doc.\n",
            "Preparing to unpack .../2-golang-1.10-doc_1.10.4-2ubuntu1~18.04.2_all.deb ...\n",
            "Unpacking golang-1.10-doc (1.10.4-2ubuntu1~18.04.2) ...\n",
            "Selecting previously unselected package golang-1.10.\n",
            "Preparing to unpack .../3-golang-1.10_1.10.4-2ubuntu1~18.04.2_all.deb ...\n",
            "Unpacking golang-1.10 (1.10.4-2ubuntu1~18.04.2) ...\n",
            "Selecting previously unselected package golang-src.\n",
            "Preparing to unpack .../4-golang-src_2%3a1.10~4ubuntu1_amd64.deb ...\n",
            "Unpacking golang-src (2:1.10~4ubuntu1) ...\n",
            "Selecting previously unselected package golang-go.\n",
            "Preparing to unpack .../5-golang-go_2%3a1.10~4ubuntu1_amd64.deb ...\n",
            "Unpacking golang-go (2:1.10~4ubuntu1) ...\n",
            "Selecting previously unselected package golang-doc.\n",
            "Preparing to unpack .../6-golang-doc_2%3a1.10~4ubuntu1_all.deb ...\n",
            "Unpacking golang-doc (2:1.10~4ubuntu1) ...\n",
            "Selecting previously unselected package golang.\n",
            "Preparing to unpack .../7-golang_2%3a1.10~4ubuntu1_amd64.deb ...\n",
            "Unpacking golang (2:1.10~4ubuntu1) ...\n",
            "Selecting previously unselected package golang-1.10-race-detector-runtime.\n",
            "Preparing to unpack .../8-golang-1.10-race-detector-runtime_0.0+svn285455-0ubuntu1_amd64.deb ...\n",
            "Unpacking golang-1.10-race-detector-runtime (0.0+svn285455-0ubuntu1) ...\n",
            "Selecting previously unselected package golang-race-detector-runtime.\n",
            "Preparing to unpack .../9-golang-race-detector-runtime_2%3a1.10~4ubuntu1_amd64.deb ...\n",
            "Unpacking golang-race-detector-runtime (2:1.10~4ubuntu1) ...\n",
            "Setting up golang-1.10-race-detector-runtime (0.0+svn285455-0ubuntu1) ...\n",
            "Setting up golang-race-detector-runtime (2:1.10~4ubuntu1) ...\n",
            "Setting up golang-1.10-src (1.10.4-2ubuntu1~18.04.2) ...\n",
            "Setting up golang-src (2:1.10~4ubuntu1) ...\n",
            "Setting up golang-1.10-go (1.10.4-2ubuntu1~18.04.2) ...\n",
            "Setting up golang-1.10-doc (1.10.4-2ubuntu1~18.04.2) ...\n",
            "Setting up golang-go (2:1.10~4ubuntu1) ...\n",
            "Setting up golang-1.10 (1.10.4-2ubuntu1~18.04.2) ...\n",
            "Setting up golang-doc (2:1.10~4ubuntu1) ...\n",
            "Setting up golang (2:1.10~4ubuntu1) ...\n",
            "Processing triggers for man-db (2.8.3-2ubuntu0.1) ...\n"
          ],
          "name": "stdout"
        }
      ]
    },
    {
      "cell_type": "code",
      "metadata": {
        "colab": {
          "base_uri": "https://localhost:8080/"
        },
        "id": "lTEyarP4Kxp7",
        "outputId": "c30421d2-2d33-46f7-9ab5-3742414aa7d5"
      },
      "source": [
        "!go version"
      ],
      "execution_count": null,
      "outputs": [
        {
          "output_type": "stream",
          "text": [
            "go version go1.10.4 linux/amd64\n"
          ],
          "name": "stdout"
        }
      ]
    },
    {
      "cell_type": "code",
      "metadata": {
        "colab": {
          "base_uri": "https://localhost:8080/"
        },
        "id": "9W9H4G7QK66K",
        "outputId": "972fead1-84a6-4c51-d15c-44bdcaf9e2f6"
      },
      "source": [
        "%%writefile helloworld.go\n",
        "package main\n",
        "\n",
        "import \"fmt\"\n",
        "\n",
        "func main() {\n",
        "    fmt.Printf(\"Hello World\\n\")\n",
        "}"
      ],
      "execution_count": null,
      "outputs": [
        {
          "output_type": "stream",
          "text": [
            "Writing helloworld.go\n"
          ],
          "name": "stdout"
        }
      ]
    },
    {
      "cell_type": "code",
      "metadata": {
        "colab": {
          "base_uri": "https://localhost:8080/"
        },
        "id": "0hlPcUNiK68e",
        "outputId": "d6125d0b-225f-4e3d-edaa-ae2786c27b26"
      },
      "source": [
        "!go run helloworld.go"
      ],
      "execution_count": null,
      "outputs": [
        {
          "output_type": "stream",
          "text": [
            "Hello World\n"
          ],
          "name": "stdout"
        }
      ]
    },
    {
      "cell_type": "code",
      "metadata": {
        "id": "VaXr3OlwK6_M"
      },
      "source": [
        ""
      ],
      "execution_count": null,
      "outputs": []
    }
  ]
}